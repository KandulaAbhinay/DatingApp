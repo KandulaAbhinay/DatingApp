{
 "cells": [
  {
   "cell_type": "code",
   "execution_count": 1,
   "metadata": {},
   "outputs": [],
   "source": [
    "#Importing Required libraries \n",
    "import pandas as pd\n",
    "import numpy as np\n",
    "import matplotlib.pyplot as plt\n",
    "from sklearn import preprocessing"
   ]
  },
  {
   "cell_type": "markdown",
   "metadata": {},
   "source": [
    "# creating a data file"
   ]
  },
  {
   "cell_type": "code",
   "execution_count": 2,
   "metadata": {},
   "outputs": [
    {
     "name": "stdout",
     "output_type": "stream",
     "text": [
      "GENDER?\n",
      "a)MALE\n",
      "b)FEMALE\n",
      "\n",
      "a\n",
      "Q1.when it comes to love?\n",
      "a)opposite attracts \n",
      "b)similarities make things smoother\n",
      "choose(a or b)\n",
      "a\n",
      "Q2.When comes to love?\n",
      "a)If it’s right, it’s easy  \n",
      "b)It always requires work\n",
      "\n",
      "b\n",
      "Q3.When it comes to relationships?\n",
      "a)Communication is key\n",
      "b)It’s complicated\n",
      "\n",
      "b\n",
      "Q4.Predictability always brings comfort?\n",
      "a)Yes \n",
      "b)No\n",
      "\n",
      "b\n",
      "Q5.Which is more important? \n",
      "a)Work life balance \n",
      "b)Success \n",
      "\n",
      "a\n",
      "Q6.When trust is broken? \n",
      "a)The relationship is over \n",
      "b)There might be a chance \n",
      "\n",
      "b\n",
      "Q7.My close friend and family would say ?\n",
      "a)I’m a social butterfly \n",
      "b)I’m bit reserved or even shy\n",
      "\n",
      "a\n",
      "Q8.My close friend and family would say ?\n",
      "a)I’m an open book\n",
      "b)It takes time to know about me \n",
      "\n",
      "b\n",
      "Q9.My close friend and family would say ?\n",
      "a)I’m opinionated and strong-willed \n",
      "b)I’m easier going and laid-back \n",
      "\n",
      "a\n",
      "Q10.Having common interests ?\n",
      "a)Can make or break a relationship\n",
      "b)Doesn’t matter much \n",
      "\n",
      "b\n",
      "GENDER?\n",
      "a)MALE\n",
      "b)FEMALE\n",
      "\n",
      "b\n",
      "Q1.when it comes to love?\n",
      "a)opposite attracts \n",
      "b)similarities make things smoother\n",
      "choose(a or b)\n",
      "b\n",
      "Q2.When comes to love?\n",
      "a)If it’s right, it’s easy  \n",
      "b)It always requires work\n",
      "\n",
      "a\n",
      "Q3.When it comes to relationships?\n",
      "a)Communication is key\n",
      "b)It’s complicated\n",
      "\n",
      "b\n",
      "Q4.Predictability always brings comfort?\n",
      "a)Yes \n",
      "b)No\n",
      "\n",
      "a\n",
      "Q5.Which is more important? \n",
      "a)Work life balance \n",
      "b)Success \n",
      "\n",
      "b\n",
      "Q6.When trust is broken? \n",
      "a)The relationship is over \n",
      "b)There might be a chance \n",
      "\n",
      "a\n",
      "Q7.My close friend and family would say ?\n",
      "a)I’m a social butterfly \n",
      "b)I’m bit reserved or even shy\n",
      "\n",
      "b\n",
      "Q8.My close friend and family would say ?\n",
      "a)I’m an open book\n",
      "b)It takes time to know about me \n",
      "\n",
      "a\n",
      "Q9.My close friend and family would say ?\n",
      "a)I’m opinionated and strong-willed \n",
      "b)I’m easier going and laid-back \n",
      "\n",
      "b\n",
      "Q10.Having common interests ?\n",
      "a)Can make or break a relationship\n",
      "b)Doesn’t matter much \n",
      "\n",
      "a\n",
      "GENDER?\n",
      "a)MALE\n",
      "b)FEMALE\n",
      "\n",
      "a\n",
      "Q1.when it comes to love?\n",
      "a)opposite attracts \n",
      "b)similarities make things smoother\n",
      "choose(a or b)\n",
      "a\n",
      "Q2.When comes to love?\n",
      "a)If it’s right, it’s easy  \n",
      "b)It always requires work\n",
      "\n",
      "a\n",
      "Q3.When it comes to relationships?\n",
      "a)Communication is key\n",
      "b)It’s complicated\n",
      "\n",
      "b\n",
      "Q4.Predictability always brings comfort?\n",
      "a)Yes \n",
      "b)No\n",
      "\n",
      "a\n",
      "Q5.Which is more important? \n",
      "a)Work life balance \n",
      "b)Success \n",
      "\n",
      "b\n",
      "Q6.When trust is broken? \n",
      "a)The relationship is over \n",
      "b)There might be a chance \n",
      "\n",
      "a\n",
      "Q7.My close friend and family would say ?\n",
      "a)I’m a social butterfly \n",
      "b)I’m bit reserved or even shy\n",
      "\n",
      "b\n",
      "Q8.My close friend and family would say ?\n",
      "a)I’m an open book\n",
      "b)It takes time to know about me \n",
      "\n",
      "a\n",
      "Q9.My close friend and family would say ?\n",
      "a)I’m opinionated and strong-willed \n",
      "b)I’m easier going and laid-back \n",
      "\n",
      "b\n",
      "Q10.Having common interests ?\n",
      "a)Can make or break a relationship\n",
      "b)Doesn’t matter much \n",
      "\n",
      "a\n",
      "GENDER?\n",
      "a)MALE\n",
      "b)FEMALE\n",
      "\n",
      "b\n",
      "Q1.when it comes to love?\n",
      "a)opposite attracts \n",
      "b)similarities make things smoother\n",
      "choose(a or b)\n",
      "a\n",
      "Q2.When comes to love?\n",
      "a)If it’s right, it’s easy  \n",
      "b)It always requires work\n",
      "\n",
      "b\n",
      "Q3.When it comes to relationships?\n",
      "a)Communication is key\n",
      "b)It’s complicated\n",
      "\n",
      "a\n",
      "Q4.Predictability always brings comfort?\n",
      "a)Yes \n",
      "b)No\n",
      "\n",
      "b\n",
      "Q5.Which is more important? \n",
      "a)Work life balance \n",
      "b)Success \n",
      "\n",
      "a\n",
      "Q6.When trust is broken? \n",
      "a)The relationship is over \n",
      "b)There might be a chance \n",
      "\n",
      "b\n",
      "Q7.My close friend and family would say ?\n",
      "a)I’m a social butterfly \n",
      "b)I’m bit reserved or even shy\n",
      "\n",
      "a\n",
      "Q8.My close friend and family would say ?\n",
      "a)I’m an open book\n",
      "b)It takes time to know about me \n",
      "\n",
      "b\n",
      "Q9.My close friend and family would say ?\n",
      "a)I’m opinionated and strong-willed \n",
      "b)I’m easier going and laid-back \n",
      "\n",
      "a\n",
      "Q10.Having common interests ?\n",
      "a)Can make or break a relationship\n",
      "b)Doesn’t matter much \n",
      "\n",
      "b\n",
      "['male', 'a', 'b', 'b', 'b', 'a', 'b', 'a', 'b', 'a', 'b']\n",
      "['female', 'b', 'a', 'b', 'a', 'b', 'a', 'b', 'a', 'b', 'a']\n",
      "['male', 'a', 'a', 'b', 'a', 'b', 'a', 'b', 'a', 'b', 'a']\n",
      "['female', 'a', 'b', 'a', 'b', 'a', 'b', 'a', 'b', 'a', 'b']\n"
     ]
    }
   ],
   "source": [
    "# PRIMARY CODE FOR CREATING DATAFILE\n",
    "total_data=[]\n",
    "users=4\n",
    "for i in range(users):\n",
    "    a=[]\n",
    "    print('GENDER?\\na)MALE\\nb)FEMALE\\n')\n",
    "    b=input()\n",
    "    if b=='a':\n",
    "        b='male'\n",
    "    else:\n",
    "        b='female'\n",
    "    a.append(b)\n",
    "    print('Q1.when it comes to love?\\n''a)opposite attracts \\n''b)similarities make things smoother\\nchoose(a or b)')\n",
    "    b=input()\n",
    "    a.append(b)\n",
    "    print('Q2.When comes to love?\\n''a)If it’s right, it’s easy  \\n''b)It always requires work\\n')\n",
    "    b=input()\n",
    "    a.append(b)\n",
    "    print('Q3.When it comes to relationships?\\n''a)Communication is key\\n''b)It’s complicated\\n')\n",
    "    b=input()\n",
    "    a.append(b)\n",
    "    print('Q4.Predictability always brings comfort?\\n''a)Yes \\n''b)No\\n')\n",
    "    b=input()\n",
    "    a.append(b)\n",
    "    print('Q5.Which is more important? \\na)Work life balance \\nb)Success \\n')\n",
    "    b=input()\n",
    "    a.append(b)\n",
    "    print('Q6.When trust is broken? \\na)The relationship is over \\nb)There might be a chance \\n')\n",
    "    b=input()\n",
    "    a.append(b)\n",
    "    print('Q7.My close friend and family would say ?\\na)I’m a social butterfly \\nb)I’m bit reserved or even shy\\n')\n",
    "    b=input()\n",
    "    a.append(b)\n",
    "    print('Q8.My close friend and family would say ?\\na)I’m an open book\\nb)It takes time to know about me \\n')\n",
    "    b=input()\n",
    "    a.append(b)\n",
    "    print('Q9.My close friend and family would say ?\\na)I’m opinionated and strong-willed \\nb)I’m easier going and laid-back \\n')\n",
    "    b=input()\n",
    "    a.append(b)\n",
    "    print('Q10.Having common interests ?\\na)Can make or break a relationship\\nb)Doesn’t matter much \\n')\n",
    "    b=input()\n",
    "    a.append(b)\n",
    "    total_data.append(a)\n",
    "for i in total_data:\n",
    "    print(i)"
   ]
  },
  {
   "cell_type": "code",
   "execution_count": 3,
   "metadata": {},
   "outputs": [],
   "source": [
    "data=[i for i in total_data]"
   ]
  },
  {
   "cell_type": "code",
   "execution_count": 4,
   "metadata": {},
   "outputs": [],
   "source": [
    "col=['Gender','Q1','Q2','Q3','Q4','Q5','Q6','Q7','Q8','Q9','Q10']"
   ]
  },
  {
   "cell_type": "code",
   "execution_count": 5,
   "metadata": {},
   "outputs": [
    {
     "data": {
      "text/html": [
       "<div>\n",
       "<style scoped>\n",
       "    .dataframe tbody tr th:only-of-type {\n",
       "        vertical-align: middle;\n",
       "    }\n",
       "\n",
       "    .dataframe tbody tr th {\n",
       "        vertical-align: top;\n",
       "    }\n",
       "\n",
       "    .dataframe thead th {\n",
       "        text-align: right;\n",
       "    }\n",
       "</style>\n",
       "<table border=\"1\" class=\"dataframe\">\n",
       "  <thead>\n",
       "    <tr style=\"text-align: right;\">\n",
       "      <th></th>\n",
       "      <th>Gender</th>\n",
       "      <th>Q1</th>\n",
       "      <th>Q2</th>\n",
       "      <th>Q3</th>\n",
       "      <th>Q4</th>\n",
       "      <th>Q5</th>\n",
       "      <th>Q6</th>\n",
       "      <th>Q7</th>\n",
       "      <th>Q8</th>\n",
       "      <th>Q9</th>\n",
       "      <th>Q10</th>\n",
       "    </tr>\n",
       "  </thead>\n",
       "  <tbody>\n",
       "    <tr>\n",
       "      <th>0</th>\n",
       "      <td>male</td>\n",
       "      <td>a</td>\n",
       "      <td>b</td>\n",
       "      <td>b</td>\n",
       "      <td>b</td>\n",
       "      <td>a</td>\n",
       "      <td>b</td>\n",
       "      <td>a</td>\n",
       "      <td>b</td>\n",
       "      <td>a</td>\n",
       "      <td>b</td>\n",
       "    </tr>\n",
       "    <tr>\n",
       "      <th>1</th>\n",
       "      <td>female</td>\n",
       "      <td>b</td>\n",
       "      <td>a</td>\n",
       "      <td>b</td>\n",
       "      <td>a</td>\n",
       "      <td>b</td>\n",
       "      <td>a</td>\n",
       "      <td>b</td>\n",
       "      <td>a</td>\n",
       "      <td>b</td>\n",
       "      <td>a</td>\n",
       "    </tr>\n",
       "    <tr>\n",
       "      <th>2</th>\n",
       "      <td>male</td>\n",
       "      <td>a</td>\n",
       "      <td>a</td>\n",
       "      <td>b</td>\n",
       "      <td>a</td>\n",
       "      <td>b</td>\n",
       "      <td>a</td>\n",
       "      <td>b</td>\n",
       "      <td>a</td>\n",
       "      <td>b</td>\n",
       "      <td>a</td>\n",
       "    </tr>\n",
       "    <tr>\n",
       "      <th>3</th>\n",
       "      <td>female</td>\n",
       "      <td>a</td>\n",
       "      <td>b</td>\n",
       "      <td>a</td>\n",
       "      <td>b</td>\n",
       "      <td>a</td>\n",
       "      <td>b</td>\n",
       "      <td>a</td>\n",
       "      <td>b</td>\n",
       "      <td>a</td>\n",
       "      <td>b</td>\n",
       "    </tr>\n",
       "  </tbody>\n",
       "</table>\n",
       "</div>"
      ],
      "text/plain": [
       "   Gender Q1 Q2 Q3 Q4 Q5 Q6 Q7 Q8 Q9 Q10\n",
       "0    male  a  b  b  b  a  b  a  b  a   b\n",
       "1  female  b  a  b  a  b  a  b  a  b   a\n",
       "2    male  a  a  b  a  b  a  b  a  b   a\n",
       "3  female  a  b  a  b  a  b  a  b  a   b"
      ]
     },
     "execution_count": 5,
     "metadata": {},
     "output_type": "execute_result"
    }
   ],
   "source": [
    "#df=pd.read_excel('dating.xlsx')  we can also create an excelsheet and read data\n",
    "df = pd.DataFrame(data,index=range(4),columns=col)\n",
    "\n",
    "df.to_csv('/Users/abhi/python1.csv',index=False) #to save datafile into a csv file\n",
    "df"
   ]
  },
  {
   "cell_type": "code",
   "execution_count": 6,
   "metadata": {},
   "outputs": [
    {
     "data": {
      "text/html": [
       "<div>\n",
       "<style scoped>\n",
       "    .dataframe tbody tr th:only-of-type {\n",
       "        vertical-align: middle;\n",
       "    }\n",
       "\n",
       "    .dataframe tbody tr th {\n",
       "        vertical-align: top;\n",
       "    }\n",
       "\n",
       "    .dataframe thead th {\n",
       "        text-align: right;\n",
       "    }\n",
       "</style>\n",
       "<table border=\"1\" class=\"dataframe\">\n",
       "  <thead>\n",
       "    <tr style=\"text-align: right;\">\n",
       "      <th></th>\n",
       "      <th>Gender</th>\n",
       "      <th>Q1</th>\n",
       "      <th>Q2</th>\n",
       "      <th>Q3</th>\n",
       "      <th>Q4</th>\n",
       "      <th>Q5</th>\n",
       "      <th>Q6</th>\n",
       "      <th>Q7</th>\n",
       "      <th>Q8</th>\n",
       "      <th>Q9</th>\n",
       "      <th>Q10</th>\n",
       "    </tr>\n",
       "  </thead>\n",
       "  <tbody>\n",
       "    <tr>\n",
       "      <th>0</th>\n",
       "      <td>male</td>\n",
       "      <td>a</td>\n",
       "      <td>b</td>\n",
       "      <td>b</td>\n",
       "      <td>b</td>\n",
       "      <td>a</td>\n",
       "      <td>b</td>\n",
       "      <td>a</td>\n",
       "      <td>b</td>\n",
       "      <td>a</td>\n",
       "      <td>b</td>\n",
       "    </tr>\n",
       "    <tr>\n",
       "      <th>1</th>\n",
       "      <td>female</td>\n",
       "      <td>b</td>\n",
       "      <td>a</td>\n",
       "      <td>b</td>\n",
       "      <td>a</td>\n",
       "      <td>b</td>\n",
       "      <td>a</td>\n",
       "      <td>b</td>\n",
       "      <td>a</td>\n",
       "      <td>b</td>\n",
       "      <td>a</td>\n",
       "    </tr>\n",
       "    <tr>\n",
       "      <th>2</th>\n",
       "      <td>male</td>\n",
       "      <td>a</td>\n",
       "      <td>a</td>\n",
       "      <td>b</td>\n",
       "      <td>a</td>\n",
       "      <td>b</td>\n",
       "      <td>a</td>\n",
       "      <td>b</td>\n",
       "      <td>a</td>\n",
       "      <td>b</td>\n",
       "      <td>a</td>\n",
       "    </tr>\n",
       "    <tr>\n",
       "      <th>3</th>\n",
       "      <td>female</td>\n",
       "      <td>a</td>\n",
       "      <td>b</td>\n",
       "      <td>a</td>\n",
       "      <td>b</td>\n",
       "      <td>a</td>\n",
       "      <td>b</td>\n",
       "      <td>a</td>\n",
       "      <td>b</td>\n",
       "      <td>a</td>\n",
       "      <td>b</td>\n",
       "    </tr>\n",
       "  </tbody>\n",
       "</table>\n",
       "</div>"
      ],
      "text/plain": [
       "   Gender Q1 Q2 Q3 Q4 Q5 Q6 Q7 Q8 Q9 Q10\n",
       "0    male  a  b  b  b  a  b  a  b  a   b\n",
       "1  female  b  a  b  a  b  a  b  a  b   a\n",
       "2    male  a  a  b  a  b  a  b  a  b   a\n",
       "3  female  a  b  a  b  a  b  a  b  a   b"
      ]
     },
     "execution_count": 6,
     "metadata": {},
     "output_type": "execute_result"
    }
   ],
   "source": [
    "df1=pd.read_csv('/Users/abhi/python1.csv')#to read a csv file\n",
    "df1"
   ]
  },
  {
   "cell_type": "code",
   "execution_count": 7,
   "metadata": {},
   "outputs": [
    {
     "data": {
      "text/plain": [
       "Index(['Gender', 'Q1', 'Q2', 'Q3', 'Q4', 'Q5', 'Q6', 'Q7', 'Q8', 'Q9', 'Q10'], dtype='object')"
      ]
     },
     "execution_count": 7,
     "metadata": {},
     "output_type": "execute_result"
    }
   ],
   "source": [
    "df.columns #TO see columns name"
   ]
  },
  {
   "cell_type": "code",
   "execution_count": 8,
   "metadata": {},
   "outputs": [],
   "source": [
    "from sklearn import preprocessing\n",
    "\n",
    "# label_encoder object knows how to understand word labels.\n",
    "label_encoder = preprocessing.LabelEncoder()\n",
    "\n",
    "# Encode labels in column 'species'.\n",
    "df['Gender'] = label_encoder.fit_transform(df['Gender'])# \n",
    "df['Q1']=label_encoder.fit_transform(df['Q1'])\n",
    "df['Q2']=label_encoder.fit_transform(df['Q2'])\n",
    "df['Q3']=label_encoder.fit_transform(df['Q3'])\n",
    "df['Q4']=label_encoder.fit_transform(df['Q4'])\n",
    "df['Q5']=label_encoder.fit_transform(df['Q5'])\n",
    "df['Q6']=label_encoder.fit_transform(df['Q6'])\n",
    "df['Q7']=label_encoder.fit_transform(df['Q7'])\n",
    "df['Q8']=label_encoder.fit_transform(df['Q8'])\n",
    "df['Q9']=label_encoder.fit_transform(df['Q9'])\n",
    "df['Q10']=label_encoder.fit_transform(df['Q10'])"
   ]
  },
  {
   "cell_type": "code",
   "execution_count": 9,
   "metadata": {},
   "outputs": [
    {
     "data": {
      "text/html": [
       "<div>\n",
       "<style scoped>\n",
       "    .dataframe tbody tr th:only-of-type {\n",
       "        vertical-align: middle;\n",
       "    }\n",
       "\n",
       "    .dataframe tbody tr th {\n",
       "        vertical-align: top;\n",
       "    }\n",
       "\n",
       "    .dataframe thead th {\n",
       "        text-align: right;\n",
       "    }\n",
       "</style>\n",
       "<table border=\"1\" class=\"dataframe\">\n",
       "  <thead>\n",
       "    <tr style=\"text-align: right;\">\n",
       "      <th></th>\n",
       "      <th>Gender</th>\n",
       "      <th>Q1</th>\n",
       "      <th>Q2</th>\n",
       "      <th>Q3</th>\n",
       "      <th>Q4</th>\n",
       "      <th>Q5</th>\n",
       "      <th>Q6</th>\n",
       "      <th>Q7</th>\n",
       "      <th>Q8</th>\n",
       "      <th>Q9</th>\n",
       "      <th>Q10</th>\n",
       "    </tr>\n",
       "  </thead>\n",
       "  <tbody>\n",
       "    <tr>\n",
       "      <th>0</th>\n",
       "      <td>1</td>\n",
       "      <td>0</td>\n",
       "      <td>1</td>\n",
       "      <td>1</td>\n",
       "      <td>1</td>\n",
       "      <td>0</td>\n",
       "      <td>1</td>\n",
       "      <td>0</td>\n",
       "      <td>1</td>\n",
       "      <td>0</td>\n",
       "      <td>1</td>\n",
       "    </tr>\n",
       "    <tr>\n",
       "      <th>1</th>\n",
       "      <td>0</td>\n",
       "      <td>1</td>\n",
       "      <td>0</td>\n",
       "      <td>1</td>\n",
       "      <td>0</td>\n",
       "      <td>1</td>\n",
       "      <td>0</td>\n",
       "      <td>1</td>\n",
       "      <td>0</td>\n",
       "      <td>1</td>\n",
       "      <td>0</td>\n",
       "    </tr>\n",
       "    <tr>\n",
       "      <th>2</th>\n",
       "      <td>1</td>\n",
       "      <td>0</td>\n",
       "      <td>0</td>\n",
       "      <td>1</td>\n",
       "      <td>0</td>\n",
       "      <td>1</td>\n",
       "      <td>0</td>\n",
       "      <td>1</td>\n",
       "      <td>0</td>\n",
       "      <td>1</td>\n",
       "      <td>0</td>\n",
       "    </tr>\n",
       "    <tr>\n",
       "      <th>3</th>\n",
       "      <td>0</td>\n",
       "      <td>0</td>\n",
       "      <td>1</td>\n",
       "      <td>0</td>\n",
       "      <td>1</td>\n",
       "      <td>0</td>\n",
       "      <td>1</td>\n",
       "      <td>0</td>\n",
       "      <td>1</td>\n",
       "      <td>0</td>\n",
       "      <td>1</td>\n",
       "    </tr>\n",
       "  </tbody>\n",
       "</table>\n",
       "</div>"
      ],
      "text/plain": [
       "   Gender  Q1  Q2  Q3  Q4  Q5  Q6  Q7  Q8  Q9  Q10\n",
       "0       1   0   1   1   1   0   1   0   1   0    1\n",
       "1       0   1   0   1   0   1   0   1   0   1    0\n",
       "2       1   0   0   1   0   1   0   1   0   1    0\n",
       "3       0   0   1   0   1   0   1   0   1   0    1"
      ]
     },
     "execution_count": 9,
     "metadata": {},
     "output_type": "execute_result"
    }
   ],
   "source": [
    "idf=df\n",
    "idf"
   ]
  },
  {
   "cell_type": "code",
   "execution_count": 10,
   "metadata": {},
   "outputs": [
    {
     "data": {
      "text/plain": [
       "KMeans(n_clusters=2)"
      ]
     },
     "execution_count": 10,
     "metadata": {},
     "output_type": "execute_result"
    }
   ],
   "source": [
    "from sklearn.cluster import KMeans\n",
    "kmeans = KMeans(n_clusters=2,init='k-means++')# in  k-means++ nearest point is taken as centroid \n",
    "kmeans.fit(idf)"
   ]
  },
  {
   "cell_type": "markdown",
   "metadata": {},
   "source": [
    "# plot b/w number of clusters and inertia"
   ]
  },
  {
   "cell_type": "code",
   "execution_count": 11,
   "metadata": {
    "scrolled": true
   },
   "outputs": [
    {
     "name": "stderr",
     "output_type": "stream",
     "text": [
      "C:\\Users\\abhi\\anaconda3\\lib\\site-packages\\sklearn\\cluster\\_kmeans.py:973: FutureWarning: 'n_jobs' was deprecated in version 0.23 and will be removed in 0.25.\n",
      "  warnings.warn(\"'n_jobs' was deprecated in version 0.23 and will be\"\n",
      "C:\\Users\\abhi\\anaconda3\\lib\\site-packages\\sklearn\\cluster\\_kmeans.py:973: FutureWarning: 'n_jobs' was deprecated in version 0.23 and will be removed in 0.25.\n",
      "  warnings.warn(\"'n_jobs' was deprecated in version 0.23 and will be\"\n",
      "C:\\Users\\abhi\\anaconda3\\lib\\site-packages\\sklearn\\cluster\\_kmeans.py:973: FutureWarning: 'n_jobs' was deprecated in version 0.23 and will be removed in 0.25.\n",
      "  warnings.warn(\"'n_jobs' was deprecated in version 0.23 and will be\"\n",
      "C:\\Users\\abhi\\anaconda3\\lib\\site-packages\\sklearn\\cluster\\_kmeans.py:973: FutureWarning: 'n_jobs' was deprecated in version 0.23 and will be removed in 0.25.\n",
      "  warnings.warn(\"'n_jobs' was deprecated in version 0.23 and will be\"\n"
     ]
    },
    {
     "data": {
      "text/plain": [
       "Text(0, 0.5, 'inertia')"
      ]
     },
     "execution_count": 11,
     "metadata": {},
     "output_type": "execute_result"
    },
    {
     "data": {
      "image/png": "[encoded data removed]",
      "text/plain": [
       "<Figure size 864x432 with 1 Axes>"
      ]
     },
     "metadata": {
      "needs_background": "light"
     },
     "output_type": "display_data"
    }
   ],
   "source": [
    "# plot makes to understand how many clusters required\n",
    "# it also makes understand the sum of squared errors and choose clusters required\n",
    "SSE=[]\n",
    "for cluster in range(1,5):\n",
    "    kmeans=KMeans(n_jobs=-1,n_clusters=cluster,init='k-means++')\n",
    "    kmeans.fit(idf)\n",
    "    SSE.append(kmeans.inertia_)\n",
    "frame =pd.DataFrame({'cluster':range(1,5),'SSE':SSE})\n",
    "plt.figure(figsize=(12,6))\n",
    "plt.plot(frame['cluster'],frame['SSE'],marker='o')\n",
    "plt.xlabel('number of clusters')\n",
    "plt.ylabel('inertia')"
   ]
  },
  {
   "cell_type": "code",
   "execution_count": 12,
   "metadata": {},
   "outputs": [
    {
     "name": "stderr",
     "output_type": "stream",
     "text": [
      "C:\\Users\\abhi\\anaconda3\\lib\\site-packages\\sklearn\\cluster\\_kmeans.py:973: FutureWarning: 'n_jobs' was deprecated in version 0.23 and will be removed in 0.25.\n",
      "  warnings.warn(\"'n_jobs' was deprecated in version 0.23 and will be\"\n"
     ]
    }
   ],
   "source": [
    "kmeans=KMeans(n_jobs=-1,n_clusters=2,init='k-means++')\n",
    "kmeans.fit(idf)\n",
    "pred = kmeans.predict(idf)\n"
   ]
  },
  {
   "cell_type": "code",
   "execution_count": 13,
   "metadata": {},
   "outputs": [
    {
     "data": {
      "text/plain": [
       "1    2\n",
       "0    2\n",
       "Name: cluster, dtype: int64"
      ]
     },
     "execution_count": 13,
     "metadata": {},
     "output_type": "execute_result"
    }
   ],
   "source": [
    "Final_df = pd.DataFrame(idf)\n",
    "Final_df['cluster']=pred\n",
    "Final_df['cluster'].value_counts()"
   ]
  },
  {
   "cell_type": "code",
   "execution_count": 14,
   "metadata": {},
   "outputs": [],
   "source": [
    "import scipy\n",
    "from scipy.cluster.hierarchy import dendrogram,linkage\n",
    "from scipy.cluster.hierarchy import fcluster\n",
    "from scipy.cluster.hierarchy import cophenet\n",
    "from scipy.spatial.distance import pdist\n",
    "\n",
    "\n",
    "from pylab import rcParams\n",
    "import seaborn as sb\n",
    "\n",
    "import sklearn\n",
    "from sklearn.cluster import AgglomerativeClustering\n",
    "import sklearn.metrics as sm"
   ]
  },
  {
   "cell_type": "code",
   "execution_count": 15,
   "metadata": {},
   "outputs": [],
   "source": [
    "np.set_printoptions(precision=4,suppress=True)\n",
    "%matplotlib inline\n",
    "rcParams['figure.figsize']=20,10\n",
    "sb.set_style('whitegrid')"
   ]
  },
  {
   "cell_type": "code",
   "execution_count": 16,
   "metadata": {},
   "outputs": [],
   "source": [
    "z=linkage(idf,'ward')"
   ]
  },
  {
   "cell_type": "markdown",
   "metadata": {},
   "source": [
    "# Dendogram "
   ]
  },
  {
   "cell_type": "code",
   "execution_count": 17,
   "metadata": {},
   "outputs": [
    {
     "data": {
      "image/png": "[encoded data removed]",
      "text/plain": [
       "<Figure size 1440x720 with 1 Axes>"
      ]
     },
     "metadata": {},
     "output_type": "display_data"
    }
   ],
   "source": [
    "dendrogram(z,truncate_mode = 'lastp',p=12,leaf_rotation=45,leaf_font_size=15,show_contracted=True)\n",
    "plt.title('truncated hierachial clustering dendogram')\n",
    "plt.xlabel('cluser size')\n",
    "plt.ylabel('distance')\n",
    "#divide the cluster\n",
    "plt.axhline(y=15)\n",
    "plt.axhline(5)\n",
    "plt.axhline(10)\n",
    "plt.show()"
   ]
  },
  {
   "cell_type": "code",
   "execution_count": 18,
   "metadata": {},
   "outputs": [
    {
     "data": {
      "text/plain": [
       "AgglomerativeClustering()"
      ]
     },
     "execution_count": 18,
     "metadata": {},
     "output_type": "execute_result"
    }
   ],
   "source": [
    "#based on the dendrogram we have 5 clusters\n",
    "k=2\n",
    "#build the model\n",
    "HClustering = AgglomerativeClustering(n_clusters=k,affinity='euclidean',linkage='ward')\n",
    "#fit the model on the dataset\n",
    "HClustering.fit(idf)"
   ]
  },
  {
   "cell_type": "code",
   "execution_count": 19,
   "metadata": {},
   "outputs": [],
   "source": [
    "predicts = HClustering.fit_predict(idf)"
   ]
  },
  {
   "cell_type": "code",
   "execution_count": 20,
   "metadata": {},
   "outputs": [
    {
     "data": {
      "text/plain": [
       "array([1, 0, 0, 1], dtype=int64)"
      ]
     },
     "execution_count": 20,
     "metadata": {},
     "output_type": "execute_result"
    }
   ],
   "source": [
    "predicts"
   ]
  },
  {
   "cell_type": "code",
   "execution_count": 21,
   "metadata": {},
   "outputs": [
    {
     "data": {
      "text/html": [
       "<div>\n",
       "<style scoped>\n",
       "    .dataframe tbody tr th:only-of-type {\n",
       "        vertical-align: middle;\n",
       "    }\n",
       "\n",
       "    .dataframe tbody tr th {\n",
       "        vertical-align: top;\n",
       "    }\n",
       "\n",
       "    .dataframe thead th {\n",
       "        text-align: right;\n",
       "    }\n",
       "</style>\n",
       "<table border=\"1\" class=\"dataframe\">\n",
       "  <thead>\n",
       "    <tr style=\"text-align: right;\">\n",
       "      <th></th>\n",
       "      <th>Gender</th>\n",
       "      <th>Q1</th>\n",
       "      <th>Q2</th>\n",
       "      <th>Q3</th>\n",
       "      <th>Q4</th>\n",
       "      <th>Q5</th>\n",
       "      <th>Q6</th>\n",
       "      <th>Q7</th>\n",
       "      <th>Q8</th>\n",
       "      <th>Q9</th>\n",
       "      <th>Q10</th>\n",
       "      <th>cluster</th>\n",
       "    </tr>\n",
       "  </thead>\n",
       "  <tbody>\n",
       "    <tr>\n",
       "      <th>0</th>\n",
       "      <td>1</td>\n",
       "      <td>0</td>\n",
       "      <td>1</td>\n",
       "      <td>1</td>\n",
       "      <td>1</td>\n",
       "      <td>0</td>\n",
       "      <td>1</td>\n",
       "      <td>0</td>\n",
       "      <td>1</td>\n",
       "      <td>0</td>\n",
       "      <td>1</td>\n",
       "      <td>0</td>\n",
       "    </tr>\n",
       "    <tr>\n",
       "      <th>1</th>\n",
       "      <td>0</td>\n",
       "      <td>1</td>\n",
       "      <td>0</td>\n",
       "      <td>1</td>\n",
       "      <td>0</td>\n",
       "      <td>1</td>\n",
       "      <td>0</td>\n",
       "      <td>1</td>\n",
       "      <td>0</td>\n",
       "      <td>1</td>\n",
       "      <td>0</td>\n",
       "      <td>1</td>\n",
       "    </tr>\n",
       "    <tr>\n",
       "      <th>2</th>\n",
       "      <td>1</td>\n",
       "      <td>0</td>\n",
       "      <td>0</td>\n",
       "      <td>1</td>\n",
       "      <td>0</td>\n",
       "      <td>1</td>\n",
       "      <td>0</td>\n",
       "      <td>1</td>\n",
       "      <td>0</td>\n",
       "      <td>1</td>\n",
       "      <td>0</td>\n",
       "      <td>1</td>\n",
       "    </tr>\n",
       "    <tr>\n",
       "      <th>3</th>\n",
       "      <td>0</td>\n",
       "      <td>0</td>\n",
       "      <td>1</td>\n",
       "      <td>0</td>\n",
       "      <td>1</td>\n",
       "      <td>0</td>\n",
       "      <td>1</td>\n",
       "      <td>0</td>\n",
       "      <td>1</td>\n",
       "      <td>0</td>\n",
       "      <td>1</td>\n",
       "      <td>0</td>\n",
       "    </tr>\n",
       "  </tbody>\n",
       "</table>\n",
       "</div>"
      ],
      "text/plain": [
       "   Gender  Q1  Q2  Q3  Q4  Q5  Q6  Q7  Q8  Q9  Q10  cluster\n",
       "0       1   0   1   1   1   0   1   0   1   0    1        0\n",
       "1       0   1   0   1   0   1   0   1   0   1    0        1\n",
       "2       1   0   0   1   0   1   0   1   0   1    0        1\n",
       "3       0   0   1   0   1   0   1   0   1   0    1        0"
      ]
     },
     "execution_count": 21,
     "metadata": {},
     "output_type": "execute_result"
    }
   ],
   "source": [
    "df"
   ]
  },
  {
   "cell_type": "code",
   "execution_count": null,
   "metadata": {},
   "outputs": [],
   "source": []
  },
  {
   "cell_type": "code",
   "execution_count": null,
   "metadata": {},
   "outputs": [],
   "source": []
  }
 ],
 "metadata": {
  "kernelspec": {
   "display_name": "Python 3",
   "language": "python",
   "name": "python3"
  },
  "language_info": {
   "codemirror_mode": {
    "name": "ipython",
    "version": 3
   },
   "file_extension": ".py",
   "mimetype": "text/x-python",
   "name": "python",
   "nbconvert_exporter": "python",
   "pygments_lexer": "ipython3",
   "version": "3.8.3"
  }
 },
 "nbformat": 4,
 "nbformat_minor": 4
}
